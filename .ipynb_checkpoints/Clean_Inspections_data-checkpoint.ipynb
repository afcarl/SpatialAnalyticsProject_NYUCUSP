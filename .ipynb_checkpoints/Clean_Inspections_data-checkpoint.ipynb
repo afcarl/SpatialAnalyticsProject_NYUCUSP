{
 "cells": [
  {
   "cell_type": "code",
   "execution_count": 1,
   "metadata": {
    "collapsed": true
   },
   "outputs": [],
   "source": [
    "# import some packages\n",
    "import numpy as np\n",
    "import pandas as pd\n",
    "import datetime"
   ]
  },
  {
   "cell_type": "code",
   "execution_count": 2,
   "metadata": {
    "collapsed": true
   },
   "outputs": [],
   "source": [
    "# read data from csv\n",
    "data = pd.read_csv('2014NYC_Restaurant_Grades.csv')\n",
    "\n",
    "geocoded = pd.read_csv('InspectionGeoYelp.csv')"
   ]
  },
  {
   "cell_type": "code",
   "execution_count": 3,
   "metadata": {
    "collapsed": false
   },
   "outputs": [
    {
     "name": "stdout",
     "output_type": "stream",
     "text": [
      "146422 28868\n",
      "      CAMIS                    DBA      BORO    BUILDING  \\\n",
      "0  30075445  MORRIS PARK BAKE SHOP     BRONX        1007   \n",
      "1  30112340                WENDY'S  BROOKLYN  469          \n",
      "2  30112340                WENDY'S  BROOKLYN  469          \n",
      "3  30112340                WENDY'S  BROOKLYN  469          \n",
      "4  30112340                WENDY'S  BROOKLYN  469          \n",
      "\n",
      "                                              STREET  ZIPCODE       PHONE  \\\n",
      "0                                    MORRIS PARK AVE    10462  7188924968   \n",
      "1  FLATBUSH AVENUE                               ...    11225  7182875005   \n",
      "2  FLATBUSH AVENUE                               ...    11225  7182875005   \n",
      "3  FLATBUSH AVENUE                               ...    11225  7182875005   \n",
      "4  FLATBUSH AVENUE                               ...    11225  7182875005   \n",
      "\n",
      "  CUISINE DESCRIPTION INSPECTION DATE  \\\n",
      "0              Bakery      03/03/2014   \n",
      "1          Hamburgers      12/30/2014   \n",
      "2          Hamburgers      12/30/2014   \n",
      "3          Hamburgers      11/13/2014   \n",
      "4          Hamburgers      11/13/2014   \n",
      "\n",
      "                                            ACTION VIOLATION CODE  \\\n",
      "0  Violations were cited in the following area(s).            10F   \n",
      "1  Violations were cited in the following area(s).            06C   \n",
      "2  Violations were cited in the following area(s).            10F   \n",
      "3  Violations were cited in the following area(s).            04H   \n",
      "4  Violations were cited in the following area(s).            06A   \n",
      "\n",
      "                               VIOLATION DESCRIPTION CRITICAL FLAG  SCORE  \\\n",
      "0  Non-food contact surface improperly constructe...  Not Critical      2   \n",
      "1  Food not protected from potential source of co...      Critical      8   \n",
      "2  Non-food contact surface improperly constructe...  Not Critical      8   \n",
      "3  Raw, cooked or prepared food is adulterated, c...      Critical     16   \n",
      "4  Personal cleanliness inadequate. Outer garment...      Critical     16   \n",
      "\n",
      "  GRADE  GRADE DATE RECORD DATE                        INSPECTION TYPE  \n",
      "0     A  03/03/2014  12/03/2015  Cycle Inspection / Initial Inspection  \n",
      "1     A  12/30/2014  12/03/2015       Cycle Inspection / Re-inspection  \n",
      "2     A  12/30/2014  12/03/2015       Cycle Inspection / Re-inspection  \n",
      "3   NaN         NaN  12/03/2015  Cycle Inspection / Initial Inspection  \n",
      "4   NaN         NaN  12/03/2015  Cycle Inspection / Initial Inspection  \n",
      "   Unnamed: 0  Unnamed: 0.1  Unnamed: 0.1     CAMIS  \\\n",
      "0           0             0             0  30075445   \n",
      "1           1             1             1  30112340   \n",
      "2           2             2             2  30112340   \n",
      "3           3             3             3  30191841   \n",
      "4           4             4             4  40356018   \n",
      "\n",
      "                              DBA       BORO  ZIPCODE CUISINE DESCRIPTION  \\\n",
      "0           MORRIS PARK BAKE SHOP      BRONX    10462              Bakery   \n",
      "1                         WENDY'S   BROOKLYN    11225          Hamburgers   \n",
      "2                         WENDY'S   BROOKLYN    11225          Hamburgers   \n",
      "3  DJ REYNOLDS PUB AND RESTAURANT  MANHATTAN    10019               Irish   \n",
      "4                 RIVIERA CATERER   BROOKLYN    11224           American    \n",
      "\n",
      "  GRADE  SCORE  MONTH                                            ADDRESS  \\\n",
      "0     A      2      3        1007 MORRIS PARK AVE, BRONX, New York 10462   \n",
      "1     A      8     12      469 FLATBUSH AVENUE, BROOKLYN, New York 11225   \n",
      "2     B     23      7      469 FLATBUSH AVENUE, BROOKLYN, New York 11225   \n",
      "3     A      2      9  351 WEST   57TH STREET, MANHATTAN, New York 10019   \n",
      "4     A      5      6    2780 STILLWELL AVENUE, BROOKLYN, New York 11224   \n",
      "\n",
      "                  lat                 lon  \\\n",
      "0  40.848266969845895  -73.85595253867791   \n",
      "1   40.66287297291046  -73.96218122858005   \n",
      "2   40.66287297291046  -73.96218122858005   \n",
      "3    40.7676164567352  -73.98492902395446   \n",
      "4  40.579553915881604  -73.98205601647118   \n",
      "\n",
      "                                   STREET_ADDRESS  YelpRating  \n",
      "0        1007 MORRIS PARK AVE, BRONX, New York,NY         4.5  \n",
      "1      469 FLATBUSH AVENUE, BROOKLYN, New York,NY         4.5  \n",
      "2      469 FLATBUSH AVENUE, BROOKLYN, New York,NY         2.0  \n",
      "3  351 WEST   57TH STREET, MANHATTAN, New York,NY         2.0  \n",
      "4    2780 STILLWELL AVENUE, BROOKLYN, New York,NY         3.5  \n"
     ]
    }
   ],
   "source": [
    "# look at data\n",
    "print len(data), len(geocoded)\n",
    "print data.head()\n",
    "print geocoded.head()"
   ]
  },
  {
   "cell_type": "code",
   "execution_count": null,
   "metadata": {
    "collapsed": true
   },
   "outputs": [],
   "source": [
    "# print data types\n",
    "prin"
   ]
  },
  {
   "cell_type": "code",
   "execution_count": 15,
   "metadata": {
    "collapsed": false
   },
   "outputs": [
    {
     "name": "stdout",
     "output_type": "stream",
     "text": [
      "      CAMIS                    DBA      BORO    BUILDING  \\\n",
      "0  30075445  MORRIS PARK BAKE SHOP     BRONX        1007   \n",
      "1  30112340                WENDY'S  BROOKLYN  469          \n",
      "2  30112340                WENDY'S  BROOKLYN  469          \n",
      "6  30112340                WENDY'S  BROOKLYN  469          \n",
      "7  30112340                WENDY'S  BROOKLYN  469          \n",
      "\n",
      "                                              STREET  ZIPCODE       PHONE  \\\n",
      "0                                    MORRIS PARK AVE    10462  7188924968   \n",
      "1  FLATBUSH AVENUE                               ...    11225  7182875005   \n",
      "2  FLATBUSH AVENUE                               ...    11225  7182875005   \n",
      "6  FLATBUSH AVENUE                               ...    11225  7182875005   \n",
      "7  FLATBUSH AVENUE                               ...    11225  7182875005   \n",
      "\n",
      "  CUISINE DESCRIPTION INSPECTION DATE  \\\n",
      "0              Bakery      03/03/2014   \n",
      "1          Hamburgers      12/30/2014   \n",
      "2          Hamburgers      12/30/2014   \n",
      "6          Hamburgers      07/01/2014   \n",
      "7          Hamburgers      07/01/2014   \n",
      "\n",
      "                                            ACTION VIOLATION CODE  \\\n",
      "0  Violations were cited in the following area(s).            10F   \n",
      "1  Violations were cited in the following area(s).            06C   \n",
      "2  Violations were cited in the following area(s).            10F   \n",
      "6  Violations were cited in the following area(s).            02G   \n",
      "7  Violations were cited in the following area(s).            04J   \n",
      "\n",
      "                               VIOLATION DESCRIPTION CRITICAL FLAG  SCORE  \\\n",
      "0  Non-food contact surface improperly constructe...  Not Critical      2   \n",
      "1  Food not protected from potential source of co...      Critical      8   \n",
      "2  Non-food contact surface improperly constructe...  Not Critical      8   \n",
      "6  Cold food item held above 41º F (smoked fish a...      Critical     23   \n",
      "7  Appropriately scaled metal stem-type thermomet...      Critical     23   \n",
      "\n",
      "  GRADE  GRADE DATE RECORD DATE                        INSPECTION TYPE  \n",
      "0     A  03/03/2014  12/03/2015  Cycle Inspection / Initial Inspection  \n",
      "1     A  12/30/2014  12/03/2015       Cycle Inspection / Re-inspection  \n",
      "2     A  12/30/2014  12/03/2015       Cycle Inspection / Re-inspection  \n",
      "6     B  07/01/2014  12/03/2015       Cycle Inspection / Re-inspection  \n",
      "7     B  07/01/2014  12/03/2015       Cycle Inspection / Re-inspection  \n",
      "67079\n"
     ]
    }
   ],
   "source": [
    "# drop entries where restaurant was not graded\n",
    "data = data.dropna(subset=['GRADE DATE']) \n",
    "print data.head()\n",
    "print len(data)"
   ]
  },
  {
   "cell_type": "code",
   "execution_count": 23,
   "metadata": {
    "collapsed": false
   },
   "outputs": [
    {
     "name": "stdout",
     "output_type": "stream",
     "text": [
      "      CAMIS                    DBA      BORO    BUILDING  \\\n",
      "0  30075445  MORRIS PARK BAKE SHOP     BRONX        1007   \n",
      "1  30112340                WENDY'S  BROOKLYN  469          \n",
      "2  30112340                WENDY'S  BROOKLYN  469          \n",
      "6  30112340                WENDY'S  BROOKLYN  469          \n",
      "7  30112340                WENDY'S  BROOKLYN  469          \n",
      "\n",
      "                                              STREET  ZIPCODE       PHONE  \\\n",
      "0                                    MORRIS PARK AVE    10462  7188924968   \n",
      "1  FLATBUSH AVENUE                               ...    11225  7182875005   \n",
      "2  FLATBUSH AVENUE                               ...    11225  7182875005   \n",
      "6  FLATBUSH AVENUE                               ...    11225  7182875005   \n",
      "7  FLATBUSH AVENUE                               ...    11225  7182875005   \n",
      "\n",
      "  CUISINE DESCRIPTION INSPECTION DATE  \\\n",
      "0              Bakery      03/03/2014   \n",
      "1          Hamburgers      12/30/2014   \n",
      "2          Hamburgers      12/30/2014   \n",
      "6          Hamburgers      07/01/2014   \n",
      "7          Hamburgers      07/01/2014   \n",
      "\n",
      "                                            ACTION VIOLATION CODE  \\\n",
      "0  Violations were cited in the following area(s).            10F   \n",
      "1  Violations were cited in the following area(s).            06C   \n",
      "2  Violations were cited in the following area(s).            10F   \n",
      "6  Violations were cited in the following area(s).            02G   \n",
      "7  Violations were cited in the following area(s).            04J   \n",
      "\n",
      "                               VIOLATION DESCRIPTION CRITICAL FLAG  SCORE  \\\n",
      "0  Non-food contact surface improperly constructe...  Not Critical      2   \n",
      "1  Food not protected from potential source of co...      Critical      8   \n",
      "2  Non-food contact surface improperly constructe...  Not Critical      8   \n",
      "6  Cold food item held above 41º F (smoked fish a...      Critical     23   \n",
      "7  Appropriately scaled metal stem-type thermomet...      Critical     23   \n",
      "\n",
      "  GRADE  GRADE DATE RECORD DATE                        INSPECTION TYPE  MONTH  \n",
      "0     A  03/03/2014  12/03/2015  Cycle Inspection / Initial Inspection      3  \n",
      "1     A  12/30/2014  12/03/2015       Cycle Inspection / Re-inspection     12  \n",
      "2     A  12/30/2014  12/03/2015       Cycle Inspection / Re-inspection     12  \n",
      "6     B  07/01/2014  12/03/2015       Cycle Inspection / Re-inspection      7  \n",
      "7     B  07/01/2014  12/03/2015       Cycle Inspection / Re-inspection      7  \n"
     ]
    }
   ],
   "source": [
    "# get month\n",
    "data['MONTH'] = pd.DatetimeIndex(data['INSPECTION DATE']).month\n",
    "print data.head()"
   ]
  },
  {
   "cell_type": "code",
   "execution_count": 27,
   "metadata": {
    "collapsed": false
   },
   "outputs": [
    {
     "name": "stdout",
     "output_type": "stream",
     "text": [
      "      CAMIS                    DBA      BORO    BUILDING  \\\n",
      "0  30075445  MORRIS PARK BAKE SHOP     BRONX        1007   \n",
      "1  30112340                WENDY'S  BROOKLYN  469          \n",
      "2  30112340                WENDY'S  BROOKLYN  469          \n",
      "6  30112340                WENDY'S  BROOKLYN  469          \n",
      "7  30112340                WENDY'S  BROOKLYN  469          \n",
      "\n",
      "                                              STREET  ZIPCODE  \\\n",
      "0                                    MORRIS PARK AVE    10462   \n",
      "1  FLATBUSH AVENUE                               ...    11225   \n",
      "2  FLATBUSH AVENUE                               ...    11225   \n",
      "6  FLATBUSH AVENUE                               ...    11225   \n",
      "7  FLATBUSH AVENUE                               ...    11225   \n",
      "\n",
      "  CUISINE DESCRIPTION GRADE  SCORE  MONTH  \n",
      "0              Bakery     A      2      3  \n",
      "1          Hamburgers     A      8     12  \n",
      "2          Hamburgers     A      8     12  \n",
      "6          Hamburgers     B     23      7  \n",
      "7          Hamburgers     B     23      7  \n"
     ]
    }
   ],
   "source": [
    "data = data[['CAMIS', 'DBA', 'BORO', 'BUILDING', 'STREET', 'ZIPCODE', 'CUISINE DESCRIPTION', 'GRADE', 'SCORE', 'MONTH']]\n",
    "print data.head()"
   ]
  },
  {
   "cell_type": "code",
   "execution_count": 32,
   "metadata": {
    "collapsed": false
   },
   "outputs": [],
   "source": [
    "# remove duplicates \n",
    "data = data.drop_duplicates()\n",
    "\n",
    "# combine street address\n",
    "data['STREET_ADDRESS'] = [str(data['BUILDING'][i]) + ' ' + data['STREET'][i] for i in data.index] \n",
    "\n",
    "# export to csv\n",
    "data.to_csv('inspections_clean.csv')"
   ]
  },
  {
   "cell_type": "code",
   "execution_count": 33,
   "metadata": {
    "collapsed": false
   },
   "outputs": [
    {
     "name": "stdout",
     "output_type": "stream",
     "text": [
      "       CAMIS                             DBA       BORO    BUILDING  \\\n",
      "0   30075445           MORRIS PARK BAKE SHOP      BRONX        1007   \n",
      "1   30112340                         WENDY'S   BROOKLYN  469          \n",
      "6   30112340                         WENDY'S   BROOKLYN  469          \n",
      "12  30191841  DJ REYNOLDS PUB AND RESTAURANT  MANHATTAN  351          \n",
      "13  40356018                 RIVIERA CATERER   BROOKLYN        2780   \n",
      "\n",
      "                                               STREET  ZIPCODE  \\\n",
      "0                                     MORRIS PARK AVE    10462   \n",
      "1   FLATBUSH AVENUE                               ...    11225   \n",
      "6   FLATBUSH AVENUE                               ...    11225   \n",
      "12  WEST   57 STREET                              ...    10019   \n",
      "13                                   STILLWELL AVENUE    11224   \n",
      "\n",
      "   CUISINE DESCRIPTION GRADE  SCORE  MONTH  \\\n",
      "0               Bakery     A      2      3   \n",
      "1           Hamburgers     A      8     12   \n",
      "6           Hamburgers     B     23      7   \n",
      "12               Irish     A      2      9   \n",
      "13           American      A      5      6   \n",
      "\n",
      "                                       STREET_ADDRESS  \n",
      "0                                1007 MORRIS PARK AVE  \n",
      "1   469        FLATBUSH AVENUE                    ...  \n",
      "6   469        FLATBUSH AVENUE                    ...  \n",
      "12  351        WEST   57 STREET                   ...  \n",
      "13                              2780 STILLWELL AVENUE  \n"
     ]
    }
   ],
   "source": [
    "print data.head()"
   ]
  },
  {
   "cell_type": "code",
   "execution_count": null,
   "metadata": {
    "collapsed": true
   },
   "outputs": [],
   "source": []
  }
 ],
 "metadata": {
  "kernelspec": {
   "display_name": "Python 2",
   "language": "python",
   "name": "python2"
  },
  "language_info": {
   "codemirror_mode": {
    "name": "ipython",
    "version": 2
   },
   "file_extension": ".py",
   "mimetype": "text/x-python",
   "name": "python",
   "nbconvert_exporter": "python",
   "pygments_lexer": "ipython2",
   "version": "2.7.10"
  }
 },
 "nbformat": 4,
 "nbformat_minor": 0
}
